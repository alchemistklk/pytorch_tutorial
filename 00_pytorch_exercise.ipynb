{
  "nbformat": 4,
  "nbformat_minor": 0,
  "metadata": {
    "colab": {
      "provenance": [],
      "gpuType": "T4",
      "include_colab_link": true
    },
    "kernelspec": {
      "name": "python3",
      "display_name": "Python 3"
    },
    "language_info": {
      "name": "python"
    },
    "accelerator": "GPU"
  },
  "cells": [
    {
      "cell_type": "markdown",
      "metadata": {
        "id": "view-in-github",
        "colab_type": "text"
      },
      "source": [
        "<a href=\"https://colab.research.google.com/github/alchemistklk/pytorch_tutorial/blob/master/00_pytorch_exercise.ipynb\" target=\"_parent\"><img src=\"https://colab.research.google.com/assets/colab-badge.svg\" alt=\"Open In Colab\"/></a>"
      ]
    },
    {
      "cell_type": "markdown",
      "source": [
        "### 1.Documentation reading\n",
        "- \"torch.Tensor\": A tensor is a `multi-dimensional matrix` containing elements of a single data type\n",
        "- \"torch.cuda\": It implements the same function as a CPU tensors, but they utilize GPUs for computation."
      ],
      "metadata": {
        "id": "hFMFC8RWZOua"
      }
    },
    {
      "cell_type": "markdown",
      "source": [
        "### 2. Create a random tensor with shape(7,7)"
      ],
      "metadata": {
        "id": "K_fCQlxba4bR"
      }
    },
    {
      "cell_type": "code",
      "source": [
        "import torch\n",
        "rand_ten_2 = torch.rand(7, 7)\n",
        "print(rand_ten_2)"
      ],
      "metadata": {
        "colab": {
          "base_uri": "https://localhost:8080/"
        },
        "id": "aVFhLsDCcYYu",
        "outputId": "d60e03da-ba33-4903-ff62-15ca2f5f4ad2"
      },
      "execution_count": null,
      "outputs": [
        {
          "output_type": "stream",
          "name": "stdout",
          "text": [
            "tensor([[0.1161, 0.6627, 0.9236, 0.5959, 0.6162, 0.3945, 0.3277],\n",
            "        [0.0830, 0.0552, 0.3471, 0.2469, 0.6715, 0.6746, 0.5701],\n",
            "        [0.7161, 0.5779, 0.3435, 0.2205, 0.5691, 0.9369, 0.7056],\n",
            "        [0.7673, 0.3652, 0.2207, 0.1355, 0.7274, 0.5910, 0.9010],\n",
            "        [0.6606, 0.9261, 0.7152, 0.2504, 0.9545, 0.6715, 0.8092],\n",
            "        [0.6454, 0.2499, 0.5733, 0.4655, 0.3382, 0.5928, 0.9529],\n",
            "        [0.0924, 0.6448, 0.0552, 0.7330, 0.5621, 0.2889, 0.3650]])\n"
          ]
        }
      ]
    },
    {
      "cell_type": "markdown",
      "source": [
        "### 3. Perform a matrix multiplication on the tensor from 2 with another random tensor with shape(1, 7)"
      ],
      "metadata": {
        "id": "2IKG0oCZdGmP"
      }
    },
    {
      "cell_type": "code",
      "source": [
        "rand_ten_3 = torch.rand(1, 7)\n",
        "multi_res = torch.matmul(rand_ten_2, rand_ten_3.T)\n",
        "print(multi_res)\n",
        "print(multi_res.size())\n",
        "print(multi_res.shape)"
      ],
      "metadata": {
        "colab": {
          "base_uri": "https://localhost:8080/"
        },
        "id": "0rteQsiGdiuj",
        "outputId": "7e3e2edf-23a5-41b1-c678-c61097bd79dd"
      },
      "execution_count": null,
      "outputs": [
        {
          "output_type": "stream",
          "name": "stdout",
          "text": [
            "tensor([[2.2185],\n",
            "        [1.5521],\n",
            "        [1.9967],\n",
            "        [1.8663],\n",
            "        [2.6334],\n",
            "        [2.1708],\n",
            "        [1.5463]])\n",
            "torch.Size([7, 1])\n",
            "torch.Size([7, 1])\n"
          ]
        }
      ]
    },
    {
      "cell_type": "markdown",
      "source": [
        "### 4. Set the random seed to 0 and do 2 & 3 again"
      ],
      "metadata": {
        "id": "VobizZGZehZI"
      }
    },
    {
      "cell_type": "code",
      "source": [
        "RANDOM_SEED = 42\n",
        "torch.manual_seed(RANDOM_SEED)\n",
        "rand_ten_4_1 = torch.rand(7, 7)\n",
        "torch.manual_seed(RANDOM_SEED)\n",
        "rand_ten_4_2 = torch.rand(1, 7)\n",
        "matmul_res_4 = torch.matmul(rand_ten_4_1, rand_ten_4_2.T)\n",
        "print(matmul_res_4)"
      ],
      "metadata": {
        "colab": {
          "base_uri": "https://localhost:8080/"
        },
        "id": "-4__eSYFesiD",
        "outputId": "0328700c-d64b-4b1a-bb24-d6f9990a0af9"
      },
      "execution_count": null,
      "outputs": [
        {
          "output_type": "stream",
          "name": "stdout",
          "text": [
            "tensor([[1.3299],\n",
            "        [1.8111],\n",
            "        [1.3228],\n",
            "        [0.9725],\n",
            "        [1.8285],\n",
            "        [1.4806],\n",
            "        [2.0489]])\n"
          ]
        }
      ]
    },
    {
      "cell_type": "markdown",
      "source": [
        "### 5. Speaking of random seeds, we saw how to set it with `torch.manual_seed()` but is there a GPU equivalent?"
      ],
      "metadata": {
        "id": "aZXLj9fafT2U"
      }
    },
    {
      "cell_type": "code",
      "source": [
        "GPU_MANUAL_SEED = 1234\n",
        "torch.cuda.manual_seed(GPU_MANUAL_SEED)"
      ],
      "metadata": {
        "id": "O8gxBnUAgF3y"
      },
      "execution_count": null,
      "outputs": []
    },
    {
      "cell_type": "markdown",
      "source": [
        "### 6. Create two random tensor of shape(2, 3) and send them both to the GPU"
      ],
      "metadata": {
        "id": "1UL5HsX2gR-f"
      }
    },
    {
      "cell_type": "code",
      "source": [
        "torch.manual_seed(42)\n",
        "device = \"cuda\" if torch.cuda.is_available() else \"cpu\"\n",
        "tensor_6_1 = torch.rand(2, 3).to(device)\n",
        "torch.manual_seed(42)\n",
        "tensor_6_2 = torch.rand(2, 3).to(device)\n",
        "print(f\"Device: {device}\")\n",
        "print(tensor_6_1, tensor_6_1.device)\n",
        "print(tensor_6_2, tensor_6_2.device)"
      ],
      "metadata": {
        "colab": {
          "base_uri": "https://localhost:8080/"
        },
        "id": "6iG_rpkoglcm",
        "outputId": "d88438d1-c302-4f93-9e80-04625ce66a0e"
      },
      "execution_count": null,
      "outputs": [
        {
          "output_type": "stream",
          "name": "stdout",
          "text": [
            "Device: cuda\n",
            "tensor([[0.8823, 0.9150, 0.3829],\n",
            "        [0.9593, 0.3904, 0.6009]], device='cuda:0') cuda:0\n",
            "tensor([[0.8823, 0.9150, 0.3829],\n",
            "        [0.9593, 0.3904, 0.6009]], device='cuda:0') cuda:0\n"
          ]
        }
      ]
    },
    {
      "cell_type": "markdown",
      "source": [
        "### 7. Perform a matrix multiplication on the tensors you created in 6"
      ],
      "metadata": {
        "id": "gODowd30iINb"
      }
    },
    {
      "cell_type": "code",
      "source": [
        "matmul_res_7 = torch.matmul(tensor_6_1, tensor_6_2.T)\n",
        "print(matmul_res_7)"
      ],
      "metadata": {
        "colab": {
          "base_uri": "https://localhost:8080/"
        },
        "id": "t317i0seiRsb",
        "outputId": "2fec55c5-9e05-4a6e-8161-c9c714fd23de"
      },
      "execution_count": null,
      "outputs": [
        {
          "output_type": "stream",
          "name": "stdout",
          "text": [
            "tensor([[1.7622, 1.4337],\n",
            "        [1.4337, 1.4338]], device='cuda:0')\n"
          ]
        }
      ]
    },
    {
      "cell_type": "code",
      "source": [
        "### 8. Find the maximum and minimum values of the output of 7\n",
        "max = torch.max(matmul_res_7)\n",
        "min = torch.min(matmul_res_7)\n",
        "max, min"
      ],
      "metadata": {
        "colab": {
          "base_uri": "https://localhost:8080/"
        },
        "id": "QxtDVEM3jIhr",
        "outputId": "12d5812c-8394-4601-b9dc-4fe2813706f3"
      },
      "execution_count": null,
      "outputs": [
        {
          "output_type": "execute_result",
          "data": {
            "text/plain": [
              "(tensor(1.7622, device='cuda:0'), tensor(1.4337, device='cuda:0'))"
            ]
          },
          "metadata": {},
          "execution_count": 29
        }
      ]
    },
    {
      "cell_type": "markdown",
      "source": [
        "### 9. Find the maximum and minimum index values of the output of 7"
      ],
      "metadata": {
        "id": "rqNhXkB9ijTN"
      }
    },
    {
      "cell_type": "code",
      "source": [
        "max_index = torch.argmax(matmul_res_7)\n",
        "min_index = torch.argmin(matmul_res_7)\n",
        "print(max_index)\n",
        "print(min_index)"
      ],
      "metadata": {
        "colab": {
          "base_uri": "https://localhost:8080/"
        },
        "id": "WxpIIgrVisR2",
        "outputId": "ba535a53-d7b3-45dc-e4f8-e6d68b45c983"
      },
      "execution_count": null,
      "outputs": [
        {
          "output_type": "stream",
          "name": "stdout",
          "text": [
            "tensor(0, device='cuda:0')\n",
            "tensor(1, device='cuda:0')\n"
          ]
        }
      ]
    },
    {
      "cell_type": "markdown",
      "source": [
        "### 10. Make a random tensor with shape (1, 1, 1, 7) and then create a new tensor with all 1 dimensions removed to be left with a shape of (10)"
      ],
      "metadata": {
        "id": "8jBGNVaFjZcl"
      }
    },
    {
      "cell_type": "code",
      "source": [
        "torch.manual_seed(7)\n",
        "tensor_10 = torch.rand(1, 1, 1, 7)\n",
        "print(tensor_10, tensor_10.shape)\n",
        "new_tensor_10 = tensor_10.squeeze()\n",
        "print(new_tensor_10, new_tensor_10.shape)\n"
      ],
      "metadata": {
        "colab": {
          "base_uri": "https://localhost:8080/"
        },
        "id": "R-PUPixGjlg2",
        "outputId": "f1878467-adcc-4ba4-8b4f-ccfa5945cb51"
      },
      "execution_count": null,
      "outputs": [
        {
          "output_type": "stream",
          "name": "stdout",
          "text": [
            "tensor([[[[0.5349, 0.1988, 0.6592, 0.6569, 0.2328, 0.4251, 0.2071]]]]) torch.Size([1, 1, 1, 7])\n",
            "tensor([0.5349, 0.1988, 0.6592, 0.6569, 0.2328, 0.4251, 0.2071]) torch.Size([7])\n"
          ]
        }
      ]
    }
  ]
}