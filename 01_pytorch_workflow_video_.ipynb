{
  "nbformat": 4,
  "nbformat_minor": 0,
  "metadata": {
    "colab": {
      "provenance": [],
      "collapsed_sections": [
        "WXSKvA_9bKwk",
        "FqyiYDL6f2u_"
      ],
      "gpuType": "T4",
      "toc_visible": true,
      "include_colab_link": true
    },
    "kernelspec": {
      "name": "python3",
      "display_name": "Python 3"
    },
    "language_info": {
      "name": "python"
    },
    "accelerator": "GPU"
  },
  "cells": [
    {
      "cell_type": "markdown",
      "metadata": {
        "id": "view-in-github",
        "colab_type": "text"
      },
      "source": [
        "<a href=\"https://colab.research.google.com/github/alchemistklk/pytorch_tutorial/blob/master/01_pytorch_workflow_video_.ipynb\" target=\"_parent\"><img src=\"https://colab.research.google.com/assets/colab-badge.svg\" alt=\"Open In Colab\"/></a>"
      ]
    },
    {
      "cell_type": "markdown",
      "source": [
        "# Pytorch Workflow\n",
        "Let's explore an example Pytorch end-to-end workflow.\n",
        "Resources:\n",
        "  - Ground truth notebook:https://www.learnpytorch.io/01_pytorch_workflow"
      ],
      "metadata": {
        "id": "RnmFT3o5W2bd"
      }
    },
    {
      "cell_type": "code",
      "source": [
        "what_we_covering = {1:\"data(prepare and load)\",\n",
        "                    2:\"build model\",\n",
        "                    3:\"fitting the model to data(training)\",\n",
        "                    4:\"make predictions and evaluate the model(inference)\",\n",
        "                    5:\"save and load a model\",\n",
        "                    6:\"putting it all together\"}"
      ],
      "metadata": {
        "id": "Nij7lAvjYw8E"
      },
      "execution_count": null,
      "outputs": []
    },
    {
      "cell_type": "code",
      "source": [
        "import torch\n",
        "from torch import nn # nn contains all type of Pytorch's building blocks for neural network\n",
        "import matplotlib.pyplot as plt"
      ],
      "metadata": {
        "id": "iVV5XBvKaczU"
      },
      "execution_count": null,
      "outputs": []
    },
    {
      "cell_type": "markdown",
      "source": [
        "## 1.Data (preparing and loading)\n",
        "Data can be almost everything in machine learning\n",
        "- Excel Speadsheet\n",
        "- Images of any kind\n",
        "- Videos\n",
        "- Audio like songs and podcasts\n",
        "- Text\n",
        "\n",
        "Machine learning is a game if two parts\n",
        "- Get data into a numerical representation\n",
        "- Build a model to learn patterns in the numerical representation.\n"
      ],
      "metadata": {
        "id": "WXSKvA_9bKwk"
      }
    },
    {
      "cell_type": "code",
      "source": [
        "# Create known parameters\n",
        "weight = 0.7\n",
        "bias = 0.3\n",
        "\n",
        "# Create\n",
        "start = 0\n",
        "end = 1\n",
        "step_size = 0.02\n",
        "X = torch.arange(start, end, step_size).unsqueeze(dim=1)\n",
        "y=weight *  X + bias\n",
        "X[:10], y[:10]"
      ],
      "metadata": {
        "colab": {
          "base_uri": "https://localhost:8080/"
        },
        "id": "v64RgN-icvRQ",
        "outputId": "3cf536e9-1903-4d1e-e53e-f63cdbd18232"
      },
      "execution_count": null,
      "outputs": [
        {
          "output_type": "execute_result",
          "data": {
            "text/plain": [
              "(tensor([[0.0000],\n",
              "         [0.0200],\n",
              "         [0.0400],\n",
              "         [0.0600],\n",
              "         [0.0800],\n",
              "         [0.1000],\n",
              "         [0.1200],\n",
              "         [0.1400],\n",
              "         [0.1600],\n",
              "         [0.1800]]),\n",
              " tensor([[0.3000],\n",
              "         [0.3140],\n",
              "         [0.3280],\n",
              "         [0.3420],\n",
              "         [0.3560],\n",
              "         [0.3700],\n",
              "         [0.3840],\n",
              "         [0.3980],\n",
              "         [0.4120],\n",
              "         [0.4260]]))"
            ]
          },
          "metadata": {},
          "execution_count": 3
        }
      ]
    },
    {
      "cell_type": "code",
      "source": [
        "len(X), len(y)"
      ],
      "metadata": {
        "colab": {
          "base_uri": "https://localhost:8080/"
        },
        "id": "ElxeQnHEfE26",
        "outputId": "b6d4bf91-eac2-4948-d559-c79276fedbc6"
      },
      "execution_count": null,
      "outputs": [
        {
          "output_type": "execute_result",
          "data": {
            "text/plain": [
              "(50, 50)"
            ]
          },
          "metadata": {},
          "execution_count": 4
        }
      ]
    },
    {
      "cell_type": "markdown",
      "source": [
        "### Spliting data into training and test sets(one of the most important concepts in machine learning)"
      ],
      "metadata": {
        "id": "FqyiYDL6f2u_"
      }
    },
    {
      "cell_type": "code",
      "source": [
        "# Create a train/test split\n",
        "train_split = int(0.8 * len(X))\n",
        "X_train, y_train = X[:train_split], y[:train_split]\n",
        "X_test, y_test = X[train_split:], y[train_split:]"
      ],
      "metadata": {
        "id": "YkmTS6lChuci"
      },
      "execution_count": null,
      "outputs": []
    },
    {
      "cell_type": "code",
      "source": [
        "def plot_predictions(train_data=X_train,\n",
        "                     train_labels=y_train,\n",
        "                     test_data=X_test,\n",
        "                     test_labels=y_test,\n",
        "                     predictions=None):\n",
        "  \"\"\"\n",
        "  Plots training data, test data and compares predictions\n",
        "  \"\"\"\n",
        "  plt.figure(figsize=(10, 7))\n",
        "  plt.scatter(train_data, train_labels, c=\"b\", s=4, label=\"Training data\")\n",
        "  plt.scatter(test_data, test_labels, c=\"g\", s=4, label=\"Testing data\")\n",
        "\n",
        "  if predictions is not None:\n",
        "    plt.scatter(test_data, predictions, c=\"r\", s=4, label=\"Predictions\")\n",
        "\n",
        "  plt.legend(prop={\"size\": 14})"
      ],
      "metadata": {
        "id": "Yeko8O56jl3g"
      },
      "execution_count": null,
      "outputs": []
    },
    {
      "cell_type": "code",
      "source": [
        "plot_predictions(X_train, y_train, X_test, y_test)"
      ],
      "metadata": {
        "colab": {
          "base_uri": "https://localhost:8080/"
        },
        "id": "Tu8z1F3LmdNo",
        "outputId": "204c7268-e861-466b-dff4-78ca64c70607"
      },
      "execution_count": null,
      "outputs": [
        {
          "output_type": "display_data",
          "data": {
            "text/plain": [
              "<Figure size 1000x700 with 1 Axes>"
            ],
            "image/png": "[encoded data removed]"
          },
          "metadata": {}
        }
      ]
    },
    {
      "cell_type": "markdown",
      "source": [
        "## 2.Building first pytorch model\n",
        "What our model does:\n",
        "- Start with random value(weight & bias)\n",
        "- Look at the training data and adjust the random values to better represent\n",
        "\n",
        "How does it do so?\n",
        "\n",
        "Through two main algorithms:\n",
        "1. Gradient Descent\n",
        "2. Backpropagation"
      ],
      "metadata": {
        "id": "M5rgrr3-nNxC"
      }
    },
    {
      "cell_type": "code",
      "source": [
        "# #Almost everything in PyTorch inherits from nn.Module\n",
        "# class LinearRegressionModel(nn.Module):\n",
        "#   def __init__(self):\n",
        "#     super().__init__()\n",
        "#     self.weights = nn.Parameter(torch.rand(1,\n",
        "#                                            dtype=torch.float),\n",
        "#                                 requires_grad=True)\n",
        "\n",
        "#     self.bias = nn.Parameter(torch.rand(1,\n",
        "#                                         dtype=torch.float),\n",
        "#                              requires_grad=True)\n",
        "\n",
        "#   # Forward method to define the computation in the model\n",
        "#   # x: is the input data\n",
        "#   def forward(self, x:torch.Tensor) -> torch.Tensor:\n",
        "#     return self.weight * x + self.bias"
      ],
      "metadata": {
        "id": "cWwWyKFEvOhI"
      },
      "execution_count": null,
      "outputs": []
    },
    {
      "cell_type": "markdown",
      "source": [
        "#### Breaking down what's happening in out PyTorch linear regression model"
      ],
      "metadata": {
        "id": "AaUG8c4VnRNL"
      }
    },
    {
      "cell_type": "code",
      "source": [
        "# Subclass `nn.Module`(this contains all the building blocks for neural network)\n",
        "class LinearRegressionModel(nn.Module):\n",
        "  def __init__(self):\n",
        "    super().__init__()\n",
        "    # Initialise `model parameters` to used in various computetion\n",
        "    \"\"\"`requires_grad=True` means PyTorch will track the gradients of this\n",
        "    specific paramter for use with `torch.autograd` and gradient descent\n",
        "    \"\"\"\n",
        "    self.weights = nn.Parameter(torch.rand(1,\n",
        "                                           dtype=torch.float),\n",
        "                                requires_grad=True)\n",
        "    self.bias = nn.Parameter(torch.rand(1,\n",
        "                                        dtype=torch.float),\n",
        "                             requires_grad=True)\n",
        "\n",
        "  # Any subclass of nn.Module needs to override forward()\n",
        "  def forward(self, x:torch.Tensor) -> torch.Tensor:\n",
        "    return self.weights * x + self.bias"
      ],
      "metadata": {
        "id": "OONwmhUKotGk"
      },
      "execution_count": null,
      "outputs": []
    },
    {
      "cell_type": "markdown",
      "source": [
        "### Pytorch model building essentials\n",
        "  - `torch.nn` - contains all of the buildings for computational graphs(a neural network can be considered a computational graph)\n",
        "  - `torch.nn.Parameter` - what a parameter should our model try and learn, often a PyTorch layer from `torch.nn` is set these for us\n",
        "  - `torch.nn.Module` - The base class for all neural network if you subclass it, you should override forward\n",
        "  - `torch.optim` -  This is where the optimizers live, this will help with gradient descent\n",
        "  - `def forward()` - All `nn.Module` subclass requires\n",
        "\n",
        "See more of these essential modules via the PyTorch cheatsheet: https://pytorch.org/tutorials/beginner/ptcheat.html\n"
      ],
      "metadata": {
        "id": "LFvSHePUqVl2"
      }
    },
    {
      "cell_type": "markdown",
      "source": [
        " ### Checking the contents of our PyTorch model\n",
        " Now we've created a model, let's see what's inside\n",
        "\n",
        " So we can check our model parameters or what's inside our model using `.parameter()`\n"
      ],
      "metadata": {
        "id": "zvvjAwZpuyD6"
      }
    },
    {
      "cell_type": "code",
      "source": [
        "# Create a random seed\n",
        "torch.manual_seed(42)\n",
        "\n",
        "# Create an instance of the model (this is a subclass of nn.Module)\n",
        "model_0 = LinearRegressionModel()\n",
        "\n",
        "# Check out the parameter\n",
        "list(model_0.parameters())"
      ],
      "metadata": {
        "colab": {
          "base_uri": "https://localhost:8080/"
        },
        "id": "JH2Q3CNdwVvb",
        "outputId": "fcc26b60-ff22-4562-f5b9-2abeabe9170e"
      },
      "execution_count": null,
      "outputs": [
        {
          "output_type": "execute_result",
          "data": {
            "text/plain": [
              "[Parameter containing:\n",
              " tensor([0.8823], requires_grad=True),\n",
              " Parameter containing:\n",
              " tensor([0.9150], requires_grad=True)]"
            ]
          },
          "metadata": {},
          "execution_count": 10
        }
      ]
    },
    {
      "cell_type": "code",
      "source": [
        "# List named parameters\n",
        "model_0.state_dict()"
      ],
      "metadata": {
        "colab": {
          "base_uri": "https://localhost:8080/"
        },
        "id": "UPpYZgKa0K_O",
        "outputId": "97113f76-b8ab-4496-933b-51cb9f394987"
      },
      "execution_count": null,
      "outputs": [
        {
          "output_type": "execute_result",
          "data": {
            "text/plain": [
              "OrderedDict([('weights', tensor([0.8823])), ('bias', tensor([0.9150]))])"
            ]
          },
          "metadata": {},
          "execution_count": 11
        }
      ]
    },
    {
      "cell_type": "code",
      "source": [
        "### Making prediction using `torch.inference_mode()`\n",
        "\"\"\"Turn off the gradient tracking \"\"\"\n",
        "with torch.inference_mode():\n",
        "  y_pred = model_0(X_test)\n",
        "\n",
        "# with torch.no_grad():\n",
        "#   y_pred = model_0(X_test)\n",
        "y_pred"
      ],
      "metadata": {
        "colab": {
          "base_uri": "https://localhost:8080/"
        },
        "id": "A5GAP18q1p5V",
        "outputId": "e9d078fe-7c53-4e71-e450-0e8acf90e41a"
      },
      "execution_count": null,
      "outputs": [
        {
          "output_type": "execute_result",
          "data": {
            "text/plain": [
              "tensor([[1.6208],\n",
              "        [1.6385],\n",
              "        [1.6561],\n",
              "        [1.6738],\n",
              "        [1.6914],\n",
              "        [1.7090],\n",
              "        [1.7267],\n",
              "        [1.7443],\n",
              "        [1.7620],\n",
              "        [1.7796]])"
            ]
          },
          "metadata": {},
          "execution_count": 12
        }
      ]
    },
    {
      "cell_type": "markdown",
      "source": [
        "pytorch inference mode twitter"
      ],
      "metadata": {
        "id": "954yU1cW7byf"
      }
    },
    {
      "cell_type": "code",
      "source": [
        "plot_predictions(predictions=y_pred)"
      ],
      "metadata": {
        "id": "AbFUsn_g3nk_",
        "colab": {
          "base_uri": "https://localhost:8080/",
          "height": 599
        },
        "outputId": "e83feb55-47ed-45c1-88f7-2c3237afa6a5"
      },
      "execution_count": null,
      "outputs": [
        {
          "output_type": "display_data",
          "data": {
            "text/plain": [
              "<Figure size 1000x700 with 1 Axes>"
            ],
            "image/png": "[encoded data removed]"
          },
          "metadata": {}
        }
      ]
    },
    {
      "cell_type": "markdown",
      "source": [
        "## 3.Training Model\n",
        "The whole idea of training is for a model to move from some **unknown** paramaters(these may be random) to some *konwn* parameters\n",
        "\n",
        "Or in other word from a poor representation of the data to a better respresetation.\n",
        "\n",
        "One way to measure how poor or how wrong your model's predictions are is to use a loss function.\n",
        "\n",
        "- Note: Loss function may also be called cost function or criterion in different areas. We refer it as a loss function\n",
        "\n",
        "- **Loss function:** A function is to measure how wrong your model's prediction to ideal outputs, lower is better.\n",
        "\n",
        "- **Optimizer:** Takes into account the loss of a model and adjusts the model's parameters(e.g. weight & bias) to improve the loss\n",
        "  - Inside the optimizer you'll often have to set two paramters\n",
        "    - params - the model parameters you'd like to optimize, for example `params=model_0.parameters()`\n",
        "    - lr(learning rate) the learning rate is a hypterparameter that define how big/small the optimizer change the parameters with each step.(small `lr` results in small changes, a large `lr` results in large changes)\n",
        "\n",
        "And specifically for PyTorch, we need:\n",
        "- A training loop\n",
        "- A testing loop"
      ],
      "metadata": {
        "id": "HtkBxVDD8VsC"
      }
    },
    {
      "cell_type": "code",
      "source": [
        "# Setup a loss function\n",
        "import torch.nn as nn\n",
        "loss_fn = nn.L1Loss()\n",
        "\n",
        "# Setup an optimizer(stochastic gradient descent)\n",
        "# lr = learning rate = the most important hyperparameter you can get\n",
        "# we want to optimize the parameters present in our models\n",
        "optimizer = torch.optim.SGD(params=model_0.parameters(), lr=0.01)\n",
        "\n"
      ],
      "metadata": {
        "id": "uQx9HaZX8KfT"
      },
      "execution_count": null,
      "outputs": []
    },
    {
      "cell_type": "markdown",
      "source": [
        "**Q:** Which loss function and optimizer should I use?\n",
        "**A:** This will be problem specific. But with experience, you will get an idea of what works and what doesn't with your particular problem set.\n",
        "\n",
        "For example, for a regression promblem, a loss function of `nn.L1Loss()` and an optimizer like `torch.optim.SGD()` is suffice.\n",
        "\n",
        "But for classification problems like classifying whether a photo is a dog or a cat, you'll likely to use a loss fucntion of `nn.BCELoss()` (binary cross entropy loss).\n",
        "\n"
      ],
      "metadata": {
        "id": "MDdZR2ORAiNf"
      }
    },
    {
      "cell_type": "markdown",
      "source": [
        "### Building a training loop(and a testing loop) in PyTorch\n",
        "\n",
        "A couple of things we need in a training loop\n",
        "0. Loop through the data\n",
        "1. Forward pass(this involves moving through our model's `forward()` to make prediction on data - also called forward propagation)\n",
        "2. Calculate the loss(compare forward pass prediction to ground truth labels)\n",
        "3. Optimizer zero grad\n",
        "4. Loss backward(move through the neural network to calculate the gradient of our parameters of our model with respect to the\n",
        " loss(**backpropagation**))\n",
        "5. Optimizer step - use the optimizer to adjust our model's parameters to try and improve the loss (**gradient descent**)\n",
        "\n",
        "B Notes:\n",
        "- optimizer.zero_grad()\n",
        "- torch.autograd(): https://pytorch.org/tutorials/beginner/blitz/autograd_tutorial.html\n",
        "\n",
        "C Notes:\n",
        "- Dropout: Radomly zero some element of the input tensor with probability `p`. This has proven to be an effective technique for regularization and preventing co-adaptation of neurons\n",
        "- BatchNorm: Applies batch normlization over the input"
      ],
      "metadata": {
        "id": "OEXOHkA9CBbi"
      }
    },
    {
      "cell_type": "code",
      "source": [
        "# An epoch is one loop through the data\n",
        "epochs = 100\n",
        "# 0. Loop through the data\n",
        "for epoch in range(epochs):\n",
        "  # Set the model training mode\n",
        "  model_0.train() # train mode in PyTorch sets all parameters require_gradients equal True\n",
        "\n",
        "  epoch_count = []\n",
        "  train_loss_values = []\n",
        "  test_loss_values = []\n",
        "\n",
        "  # 1. Forward pass\n",
        "  y_pred = model_0(X_train)\n",
        "\n",
        "  # 2. Calculate the loss\n",
        "  loss = loss_fn(y_pred, y_train)\n",
        "\n",
        "  # 3. Optimizer no grad\n",
        "  optimizer.zero_grad()\n",
        "\n",
        "  # 4. Perform backpropagation on the loss with respect to the our model's parameter\n",
        "  loss.backward()\n",
        "\n",
        "  # 5. Step the optimizer\n",
        "  optimizer.step() # By default how the optimizer change will accumulate through the loop, so we have to zero above in step 3 for the next iteration of\n",
        "\n",
        "  ### Testing\n",
        "  # Turn off different settings in the model not needed for evaluation/testing\n",
        "  model_0.eval()\n",
        "  with torch.inference_mode():\n",
        "    epoch_count.append(epoch)\n",
        "    # Do the forward pass\n",
        "    test_preds = model_0(X_test)\n",
        "    # Calculate the loss\n",
        "    test_loss = loss_fn(test_preds, X_test)\n",
        "\n",
        "    epoch_count.append(epoch)\n",
        "    train_loss_values.append(loss)\n",
        "    test_loss_values.append(test_loss)\n",
        "\n",
        "\n",
        "    if epoch % 10 == 0:\n",
        "      print(f\"Epoch:{epoch}|Loss:{loss}|TestLoss:{test_loss}\")\n",
        "      # Print out model state_dict()\n",
        "      print(model_0.state_dict())\n"
      ],
      "metadata": {
        "colab": {
          "base_uri": "https://localhost:8080/"
        },
        "id": "CTe5DWQYIqcw",
        "outputId": "91ea64ab-9691-4613-d1dd-429e281dd94e"
      },
      "execution_count": null,
      "outputs": [
        {
          "output_type": "stream",
          "name": "stdout",
          "text": [
            "Epoch:0|Loss:0.6860889196395874|TestLoss:0.7967526912689209\n",
            "OrderedDict([('weights', tensor([0.8784])), ('bias', tensor([0.9050]))])\n",
            "Epoch:10|Loss:0.5708791017532349|TestLoss:0.6620427370071411\n",
            "OrderedDict([('weights', tensor([0.8394])), ('bias', tensor([0.8050]))])\n",
            "Epoch:20|Loss:0.45566922426223755|TestLoss:0.5273330211639404\n",
            "OrderedDict([('weights', tensor([0.8004])), ('bias', tensor([0.7050]))])\n",
            "Epoch:30|Loss:0.34045934677124023|TestLoss:0.3926231265068054\n",
            "OrderedDict([('weights', tensor([0.7614])), ('bias', tensor([0.6050]))])\n",
            "Epoch:40|Loss:0.2252494841814041|TestLoss:0.2579132914543152\n",
            "OrderedDict([('weights', tensor([0.7224])), ('bias', tensor([0.5050]))])\n",
            "Epoch:50|Loss:0.1100396141409874|TestLoss:0.12320347130298615\n",
            "OrderedDict([('weights', tensor([0.6834])), ('bias', tensor([0.4050]))])\n",
            "Epoch:60|Loss:0.009724985808134079|TestLoss:0.019335735589265823\n",
            "OrderedDict([('weights', tensor([0.6539])), ('bias', tensor([0.3200]))])\n",
            "Epoch:70|Loss:0.006216754671186209|TestLoss:0.021879028528928757\n",
            "OrderedDict([('weights', tensor([0.6707])), ('bias', tensor([0.3120]))])\n",
            "Epoch:80|Loss:0.002788322512060404|TestLoss:0.027357708662748337\n",
            "OrderedDict([('weights', tensor([0.6878])), ('bias', tensor([0.3050]))])\n",
            "Epoch:90|Loss:0.007095950655639172|TestLoss:0.025880062952637672\n",
            "OrderedDict([('weights', tensor([0.6938])), ('bias', tensor([0.2980]))])\n"
          ]
        }
      ]
    },
    {
      "cell_type": "code",
      "source": [
        "model_0.state_dict()"
      ],
      "metadata": {
        "colab": {
          "base_uri": "https://localhost:8080/"
        },
        "id": "3YRNClvLZvC0",
        "outputId": "cb53c9e0-6aaf-4acb-c056-184c5af23006"
      },
      "execution_count": null,
      "outputs": [
        {
          "output_type": "execute_result",
          "data": {
            "text/plain": [
              "OrderedDict([('weights', tensor([0.6977])), ('bias', tensor([0.3080]))])"
            ]
          },
          "metadata": {},
          "execution_count": 16
        }
      ]
    },
    {
      "cell_type": "code",
      "source": [
        "with torch.inference_mode():\n",
        "  y_preds_new = model_0(X_test)\n",
        "\n",
        "plot_predictions(predictions=y_preds_new)"
      ],
      "metadata": {
        "id": "K1ADJvHaby8Q",
        "colab": {
          "base_uri": "https://localhost:8080/",
          "height": 599
        },
        "outputId": "0aa3cf6e-a1ee-4764-9b50-b07a9694aa1b"
      },
      "execution_count": null,
      "outputs": [
        {
          "output_type": "display_data",
          "data": {
            "text/plain": [
              "<Figure size 1000x700 with 1 Axes>"
            ],
            "image/png": "[encoded data removed]"
          },
          "metadata": {}
        }
      ]
    },
    {
      "cell_type": "code",
      "source": [
        "import numpy\n",
        "device = \"cuda\" if torch.cuda.is_available() else \"cpu\"\n",
        "torch.tensor(train_loss_values).numpy()"
      ],
      "metadata": {
        "colab": {
          "base_uri": "https://localhost:8080/"
        },
        "id": "gH2S77pptJEJ",
        "outputId": "6a7fc939-9141-4c3f-8938-dc834ec3e021"
      },
      "execution_count": null,
      "outputs": [
        {
          "output_type": "execute_result",
          "data": {
            "text/plain": [
              "array([0.00442504], dtype=float32)"
            ]
          },
          "metadata": {},
          "execution_count": 18
        }
      ]
    },
    {
      "cell_type": "markdown",
      "source": [
        "## 4.Saving a model in PyTorch\n",
        "There are three main methods you should know about for saving and loading models in PyTorch\n",
        "\n",
        "1. `torch.save()` allows you save a PyTorch object in Python's pickle format\n",
        "2. `torch.load()` allows you load a saved PyTorch object in Python's pickle format\n",
        "3. `torch.nn.Module.load_state_dict()` allows to load a model's save saved dictionary\n"
      ],
      "metadata": {
        "id": "dPvUMiv-soGI"
      }
    },
    {
      "cell_type": "code",
      "source": [
        "# Saving our pytorch model\n",
        "from pathlib import Path\n",
        "\n",
        "# 1.Create models dictionary\n",
        "MODEL_PATH = Path(\"models\")\n",
        "MODEL_PATH.mkdir(parents=True, exist_ok=True)\n",
        "\n",
        "# 2. Create model save path\n",
        "# A common PyTorch convention to save the model is using either `.pt` or `.pth` extension filename\n",
        "MODEL_NAME = \"01_pytorch_workflow_model_0.pth\"\n",
        "MODEL_SAVE_PATH = MODEL_PATH / MODEL_NAME\n",
        "\n",
        "# 3. Save the model\n",
        "torch.save(obj=model_0.state_dict(), f=MODEL_SAVE_PATH)\n",
        "print(f\"Saving the model to: {MODEL_SAVE_PATH}\")"
      ],
      "metadata": {
        "colab": {
          "base_uri": "https://localhost:8080/"
        },
        "id": "TBEjwToSVnZ8",
        "outputId": "75e517cc-c721-4dd2-8f6d-88f0aae52117"
      },
      "execution_count": null,
      "outputs": [
        {
          "output_type": "stream",
          "name": "stdout",
          "text": [
            "Saving the model to: models/01_pytorch_workflow_model_0.pth\n"
          ]
        }
      ]
    },
    {
      "cell_type": "markdown",
      "source": [
        "## 5.Loading a PyTorch model\n",
        "Since we save the model's `state_dict()` rather than the entire model, we'll create a new model's instance and load the saved `state_dict()` into that."
      ],
      "metadata": {
        "id": "LY9Ol3JHXyJ8"
      }
    },
    {
      "cell_type": "code",
      "source": [
        "# To load in a saved stated_dict, we have to instantiate a new instance of our model class\n",
        "loaded_model_0 = LinearRegressionModel()\n",
        "\n",
        "# Load the saved state_dict of model_0 (this will update the parameters of new created instance with saved parameters)\n",
        "# LinearRegressionModel is a subclass of nn.Module, so it can call load_state_dict\n",
        "loaded_model_0.load_state_dict(torch.load(MODEL_SAVE_PATH))\n",
        "\n",
        "loaded_model_0.state_dict()"
      ],
      "metadata": {
        "colab": {
          "base_uri": "https://localhost:8080/"
        },
        "id": "oJk8-JUDaxbc",
        "outputId": "844cb9fc-b9dc-40a9-8814-a803fe76e50a"
      },
      "execution_count": null,
      "outputs": [
        {
          "output_type": "execute_result",
          "data": {
            "text/plain": [
              "OrderedDict([('weights', tensor([0.6977])), ('bias', tensor([0.3080]))])"
            ]
          },
          "metadata": {},
          "execution_count": 20
        }
      ]
    },
    {
      "cell_type": "code",
      "source": [
        "# Make some predictions with our saved model\n",
        "loaded_model_0.eval()\n",
        "with torch.inference_mode():\n",
        "  loaded_model_preds = loaded_model_0(X_test)\n",
        "\n",
        "loaded_model_preds"
      ],
      "metadata": {
        "colab": {
          "base_uri": "https://localhost:8080/"
        },
        "id": "P8EU4M3Zb1Ky",
        "outputId": "73af1166-2418-4126-ee83-15760ed6d82e"
      },
      "execution_count": null,
      "outputs": [
        {
          "output_type": "execute_result",
          "data": {
            "text/plain": [
              "tensor([[0.8661],\n",
              "        [0.8801],\n",
              "        [0.8940],\n",
              "        [0.9080],\n",
              "        [0.9220],\n",
              "        [0.9359],\n",
              "        [0.9499],\n",
              "        [0.9638],\n",
              "        [0.9778],\n",
              "        [0.9917]])"
            ]
          },
          "metadata": {},
          "execution_count": 21
        }
      ]
    },
    {
      "cell_type": "markdown",
      "source": [
        "## 6.Put it all together\n",
        "Go through the steps above and see it all in one place"
      ],
      "metadata": {
        "id": "X7cFMASddi6X"
      }
    },
    {
      "cell_type": "markdown",
      "source": [
        "### 6.0 Create device-agnostic Code\n",
        "This means if we got a GPU our code will use it(for potentially faster computing).\n"
      ],
      "metadata": {
        "id": "UdRIFFAJexR9"
      }
    },
    {
      "cell_type": "code",
      "source": [
        "# Setup device agnostic code\n",
        "device = \"cuda\" if torch.cuda.is_available() else \"cpu\"\n",
        "print(f\"Using device:{device}\")"
      ],
      "metadata": {
        "colab": {
          "base_uri": "https://localhost:8080/"
        },
        "id": "2v5l_-E4fDfn",
        "outputId": "03887573-a19e-4bb5-f4a6-83f589302832"
      },
      "execution_count": null,
      "outputs": [
        {
          "output_type": "stream",
          "name": "stdout",
          "text": [
            "Using device:cuda\n"
          ]
        }
      ]
    },
    {
      "cell_type": "markdown",
      "source": [
        "### 6.1 Data\n"
      ],
      "metadata": {
        "id": "aPniJ7dcdsPi"
      }
    },
    {
      "cell_type": "code",
      "source": [
        "# Linear Regression\n",
        "weight = 0.8\n",
        "bias = 0.2\n",
        "\n",
        "# Create range values\n",
        "start = 0\n",
        "end = 1\n",
        "step = 0.02\n",
        "# Create features and labels\n",
        "X = torch.arange(start, end, step).unsqueeze(dim=1).to(device)\n",
        "y = weight * X + bias\n",
        "\n",
        "X.shape, y.shape"
      ],
      "metadata": {
        "colab": {
          "base_uri": "https://localhost:8080/"
        },
        "id": "0VMrd-u5oh_2",
        "outputId": "a54dd98f-3d2c-4679-9661-8170b0c5a5cd"
      },
      "execution_count": null,
      "outputs": [
        {
          "output_type": "execute_result",
          "data": {
            "text/plain": [
              "(torch.Size([50, 1]), torch.Size([50, 1]))"
            ]
          },
          "metadata": {},
          "execution_count": 23
        }
      ]
    },
    {
      "cell_type": "code",
      "source": [
        "# split the data\n",
        "train_size = int(0.8 * len(X))\n",
        "X_train = X[:train_size]\n",
        "X_test = X[train_size:]\n",
        "y_train = y[:train_size]\n",
        "y_test = y[train_size:]\n",
        "plot_predictions(X_train.cpu(), y_train.cpu(), X_test.cpu(), y_test.cpu())"
      ],
      "metadata": {
        "colab": {
          "base_uri": "https://localhost:8080/",
          "height": 599
        },
        "id": "GAZUxNUPo1sP",
        "outputId": "24b02b04-1eef-4337-9b49-0d6919fdb42c"
      },
      "execution_count": null,
      "outputs": [
        {
          "output_type": "display_data",
          "data": {
            "text/plain": [
              "<Figure size 1000x700 with 1 Axes>"
            ],
            "image/png": "[encoded data removed]"
          },
          "metadata": {}
        }
      ]
    },
    {
      "cell_type": "markdown",
      "source": [
        "### 6.2 Building a PyTorch Linear model"
      ],
      "metadata": {
        "id": "QmO6PgS2vnfN"
      }
    },
    {
      "cell_type": "code",
      "source": [
        "# Create a Linear model by subclassing nn.Module\n",
        "class LinearRegresssionModelV2(nn.Module):\n",
        "  def __init__(self):\n",
        "    super().__init__()\n",
        "    # Use nn.linear layer rather that parameters also called: linear transform, probing layer, dense layer, fully connected layer\n",
        "    \"\"\"The parameters of in_features and out_feature depend on the data you use\n",
        "    This model is a linear regression model only has two parameters named \"weight\" which is 1 dimension and \"bias\".\n",
        "    The output of this model is only a numerical value which dimension is 1.\n",
        "    The in_features = 1, out_features = 1\n",
        "    \"\"\"\n",
        "    self.linear_layer = nn.Linear(in_features=1, out_features=1)\n",
        "\n",
        "  def forward(self, x:torch.Tensor) -> torch.Tensor:\n",
        "    return self.linear_layer(x)\n",
        "\n",
        "# Set the random seed\n",
        "torch.manual_seed(42)\n",
        "modelv2 = LinearRegresssionModelV2()\n",
        "modelv2.state_dict()"
      ],
      "metadata": {
        "colab": {
          "base_uri": "https://localhost:8080/"
        },
        "id": "j-1a22FOsRJ2",
        "outputId": "123046fe-812f-42d8-81b9-de7b311efa42"
      },
      "execution_count": null,
      "outputs": [
        {
          "output_type": "execute_result",
          "data": {
            "text/plain": [
              "OrderedDict([('linear_layer.weight', tensor([[0.7645]])),\n",
              "             ('linear_layer.bias', tensor([0.8300]))])"
            ]
          },
          "metadata": {},
          "execution_count": 26
        }
      ]
    },
    {
      "cell_type": "markdown",
      "source": [
        "### 6.3 Train the model"
      ],
      "metadata": {
        "id": "cv953GVnvvSb"
      }
    },
    {
      "cell_type": "code",
      "source": [
        "# Check the model current device\n",
        "next(modelv2.parameters()).device"
      ],
      "metadata": {
        "colab": {
          "base_uri": "https://localhost:8080/"
        },
        "id": "n5IHD3nU3qg4",
        "outputId": "d2e612cb-07f5-405e-df97-a03c845e3492"
      },
      "execution_count": null,
      "outputs": [
        {
          "output_type": "execute_result",
          "data": {
            "text/plain": [
              "device(type='cpu')"
            ]
          },
          "metadata": {},
          "execution_count": 27
        }
      ]
    },
    {
      "cell_type": "code",
      "source": [
        "# Set the model to use the target device\n",
        "modelv2.to(device)"
      ],
      "metadata": {
        "colab": {
          "base_uri": "https://localhost:8080/"
        },
        "id": "eZUBlsuU36Fi",
        "outputId": "7f6e2da1-18ba-4295-97cb-07ad06e37b0e"
      },
      "execution_count": null,
      "outputs": [
        {
          "output_type": "execute_result",
          "data": {
            "text/plain": [
              "LinearRegresssionModelV2(\n",
              "  (linear_layer): Linear(in_features=1, out_features=1, bias=True)\n",
              ")"
            ]
          },
          "metadata": {},
          "execution_count": 28
        }
      ]
    },
    {
      "cell_type": "code",
      "source": [
        "# define optimizer and loss function\n",
        "loss_fn = nn.L1Loss()\n",
        "# Two parameter declared to optimize, paramters and learning rate\n",
        "optimizer = torch.optim.SGD(params=modelv2.parameters(), lr = 0.01)"
      ],
      "metadata": {
        "id": "IQpN3KSQ5ZX8"
      },
      "execution_count": null,
      "outputs": []
    },
    {
      "cell_type": "code",
      "source": [
        "epoches = 200\n",
        "for epoch in range(epoches):\n",
        "  modelv2.train()\n",
        "  # forward pass\n",
        "  y_preds = modelv2(X_train)\n",
        "  # calculate the loss\n",
        "  loss = loss_fn(y_preds, y_train)\n",
        "  # optimizer zero grad\n",
        "  optimizer.zero_grad()\n",
        "\n",
        "  # loss backward()\n",
        "  loss.backward()\n",
        "\n",
        "  # optimizer.step\n",
        "  optimizer.step()\n",
        "\n",
        "  # evaluate the model\n",
        "  if epoch % 10 == 0:\n",
        "    modelv2.eval()\n",
        "    with torch.inference_mode():\n",
        "      # forward pass\n",
        "      test_preds = modelv2(X_test)\n",
        "      # calculate the loss\n",
        "      test_loss = loss_fn(test_preds, y_test)\n",
        "    print(f\"Epoch:{epoch} | Loss:{loss} | test loss:{test_loss}\")"
      ],
      "metadata": {
        "colab": {
          "base_uri": "https://localhost:8080/"
        },
        "id": "Bi49SEU3vxV2",
        "outputId": "479ba502-ae64-4c79-fac7-5562be8f52ee"
      },
      "execution_count": null,
      "outputs": [
        {
          "output_type": "stream",
          "name": "stdout",
          "text": [
            "Epoch:0 | Loss:0.6161779165267944 | test loss:0.5849762558937073\n",
            "Epoch:10 | Loss:0.5009680986404419 | test loss:0.45026642084121704\n",
            "Epoch:20 | Loss:0.3857581913471222 | test loss:0.3155565857887268\n",
            "Epoch:30 | Loss:0.2705483138561249 | test loss:0.180846706032753\n",
            "Epoch:40 | Loss:0.15533843636512756 | test loss:0.046136897057294846\n",
            "Epoch:50 | Loss:0.05875825881958008 | test loss:0.06886561214923859\n",
            "Epoch:60 | Loss:0.04580378159880638 | test loss:0.09473040699958801\n",
            "Epoch:70 | Loss:0.041819483041763306 | test loss:0.09405827522277832\n",
            "Epoch:80 | Loss:0.03831038996577263 | test loss:0.08853326737880707\n",
            "Epoch:90 | Loss:0.034879546612501144 | test loss:0.08094760775566101\n",
            "Epoch:100 | Loss:0.03144557774066925 | test loss:0.07267507165670395\n",
            "Epoch:110 | Loss:0.028006771579384804 | test loss:0.06440252810716629\n",
            "Epoch:120 | Loss:0.024577612057328224 | test loss:0.056816864758729935\n",
            "Epoch:130 | Loss:0.021141953766345978 | test loss:0.04854437708854675\n",
            "Epoch:140 | Loss:0.017704110592603683 | test loss:0.040958791971206665\n",
            "Epoch:150 | Loss:0.014275657944381237 | test loss:0.03268631175160408\n",
            "Epoch:160 | Loss:0.010838326066732407 | test loss:0.02441384270787239\n",
            "Epoch:170 | Loss:0.007402162533253431 | test loss:0.016828244552016258\n",
            "Epoch:180 | Loss:0.0039735035970807076 | test loss:0.008555757813155651\n",
            "Epoch:190 | Loss:0.008990190923213959 | test loss:0.005145949311554432\n"
          ]
        }
      ]
    },
    {
      "cell_type": "code",
      "source": [
        "with torch.inference_mode():\n",
        "  preds = modelv2(X_test)\n",
        "\n",
        "plot_predictions(predictions=preds.cpu())"
      ],
      "metadata": {
        "id": "aNuv60YKbbfv",
        "colab": {
          "base_uri": "https://localhost:8080/",
          "height": 599
        },
        "outputId": "3cce9519-b567-4864-abde-a002859a5000"
      },
      "execution_count": null,
      "outputs": [
        {
          "output_type": "display_data",
          "data": {
            "text/plain": [
              "<Figure size 1000x700 with 1 Axes>"
            ],
            "image/png": "[encoded data removed]"
          },
          "metadata": {}
        }
      ]
    },
    {
      "cell_type": "markdown",
      "source": [
        "### 6.5 Saving & loading a train model\n"
      ],
      "metadata": {
        "id": "zTzWn68AXkbf"
      }
    },
    {
      "cell_type": "code",
      "source": [
        "from pathlib import Path\n",
        "\n",
        "# 1. Create model directory\n",
        "MODEL_PATH = Path(\"models\")\n",
        "\n",
        "# 2. Create model save path\n",
        "MODEL_NAME = \"modelv2\"\n",
        "MODEL_SAVE_PATH = MODEL_PATH / MODEL_NAME\n",
        "\n",
        "# 3. Save the model\n",
        "print()\n",
        "torch.save(obj=modelv2.state_dict(), f=MODEL_SAVE_PATH)"
      ],
      "metadata": {
        "colab": {
          "base_uri": "https://localhost:8080/"
        },
        "id": "rjxYIV95Xtr-",
        "outputId": "1d8e1244-7ddc-4fd0-96d3-927c457db3d0"
      },
      "execution_count": null,
      "outputs": [
        {
          "output_type": "stream",
          "name": "stdout",
          "text": [
            "\n"
          ]
        }
      ]
    },
    {
      "cell_type": "code",
      "source": [
        "new_model_v2 = LinearRegresssionModelV2()\n",
        "new_model_v2.load_state_dict(torch.load(MODEL_SAVE_PATH))\n",
        "new_model_v2.to(device)"
      ],
      "metadata": {
        "colab": {
          "base_uri": "https://localhost:8080/"
        },
        "id": "RIyLpDR9eOET",
        "outputId": "41773f78-d2ce-4fa2-c1a3-e27ece8ff79c"
      },
      "execution_count": null,
      "outputs": [
        {
          "output_type": "execute_result",
          "data": {
            "text/plain": [
              "LinearRegresssionModelV2(\n",
              "  (linear_layer): Linear(in_features=1, out_features=1, bias=True)\n",
              ")"
            ]
          },
          "metadata": {},
          "execution_count": 40
        }
      ]
    },
    {
      "cell_type": "code",
      "source": [
        "new_model_v2.state_dict()"
      ],
      "metadata": {
        "colab": {
          "base_uri": "https://localhost:8080/"
        },
        "id": "lhvfGq7XfTW2",
        "outputId": "a841362b-20a3-4efd-f303-894922dd36d3"
      },
      "execution_count": null,
      "outputs": [
        {
          "output_type": "execute_result",
          "data": {
            "text/plain": [
              "OrderedDict([('linear_layer.weight', tensor([[0.7987]], device='cuda:0')),\n",
              "             ('linear_layer.bias', tensor([0.2095], device='cuda:0'))])"
            ]
          },
          "metadata": {},
          "execution_count": 42
        }
      ]
    },
    {
      "cell_type": "code",
      "source": [
        "new_model_v2.eval()\n",
        "with torch.inference_mode():\n",
        "  new_preds = new_model_v2(X_test)\n",
        "\n",
        "preds == new_preds"
      ],
      "metadata": {
        "colab": {
          "base_uri": "https://localhost:8080/"
        },
        "id": "66Pzew6ufn2P",
        "outputId": "286bcf37-ce24-45fa-dce9-ebb495070754"
      },
      "execution_count": null,
      "outputs": [
        {
          "output_type": "execute_result",
          "data": {
            "text/plain": [
              "tensor([[True],\n",
              "        [True],\n",
              "        [True],\n",
              "        [True],\n",
              "        [True],\n",
              "        [True],\n",
              "        [True],\n",
              "        [True],\n",
              "        [True],\n",
              "        [True]], device='cuda:0')"
            ]
          },
          "metadata": {},
          "execution_count": 44
        }
      ]
    },
    {
      "cell_type": "code",
      "source": [],
      "metadata": {
        "id": "65SxAqjjVZd8"
      },
      "execution_count": null,
      "outputs": []
    }
  ]
}