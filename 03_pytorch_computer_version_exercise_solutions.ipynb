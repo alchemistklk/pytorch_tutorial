{
  "nbformat": 4,
  "nbformat_minor": 0,
  "metadata": {
    "colab": {
      "provenance": [],
      "toc_visible": true,
      "machine_shape": "hm",
      "gpuType": "T4",
      "authorship_tag": "ABX9TyPFHYo42CwtmagqTw2+ZNh8",
      "include_colab_link": true
    },
    "kernelspec": {
      "name": "python3",
      "display_name": "Python 3"
    },
    "language_info": {
      "name": "python"
    },
    "accelerator": "GPU",
    "widgets": {
      "application/vnd.jupyter.widget-state+json": {
        "9700b9f7c5394a76b33024c7efba5fd3": {
          "model_module": "@jupyter-widgets/controls",
          "model_name": "HBoxModel",
          "model_module_version": "1.5.0",
          "state": {
            "_dom_classes": [],
            "_model_module": "@jupyter-widgets/controls",
            "_model_module_version": "1.5.0",
            "_model_name": "HBoxModel",
            "_view_count": null,
            "_view_module": "@jupyter-widgets/controls",
            "_view_module_version": "1.5.0",
            "_view_name": "HBoxView",
            "box_style": "",
            "children": [
              "IPY_MODEL_7f7ef0b5ec1547fba2f010bdf823a2f6",
              "IPY_MODEL_9750a5528bd54b1b8cf3b3c4ca9080a9",
              "IPY_MODEL_a224871d4dec4cafbd58f62e58b03e54"
            ],
            "layout": "IPY_MODEL_8d66b37dc3f34d918b65d3589ac785fb"
          }
        },
        "7f7ef0b5ec1547fba2f010bdf823a2f6": {
          "model_module": "@jupyter-widgets/controls",
          "model_name": "HTMLModel",
          "model_module_version": "1.5.0",
          "state": {
            "_dom_classes": [],
            "_model_module": "@jupyter-widgets/controls",
            "_model_module_version": "1.5.0",
            "_model_name": "HTMLModel",
            "_view_count": null,
            "_view_module": "@jupyter-widgets/controls",
            "_view_module_version": "1.5.0",
            "_view_name": "HTMLView",
            "description": "",
            "description_tooltip": null,
            "layout": "IPY_MODEL_cde2573946594fd9a7d8475b6b22c8b3",
            "placeholder": "​",
            "style": "IPY_MODEL_f3e29161f682437dabf0a6e488bde578",
            "value": "100%"
          }
        },
        "9750a5528bd54b1b8cf3b3c4ca9080a9": {
          "model_module": "@jupyter-widgets/controls",
          "model_name": "FloatProgressModel",
          "model_module_version": "1.5.0",
          "state": {
            "_dom_classes": [],
            "_model_module": "@jupyter-widgets/controls",
            "_model_module_version": "1.5.0",
            "_model_name": "FloatProgressModel",
            "_view_count": null,
            "_view_module": "@jupyter-widgets/controls",
            "_view_module_version": "1.5.0",
            "_view_name": "ProgressView",
            "bar_style": "success",
            "description": "",
            "description_tooltip": null,
            "layout": "IPY_MODEL_ca083943b3c8451d85d1c2bc2ab28765",
            "max": 5,
            "min": 0,
            "orientation": "horizontal",
            "style": "IPY_MODEL_47116b299358429d9e0023bd93b3ce6c",
            "value": 5
          }
        },
        "a224871d4dec4cafbd58f62e58b03e54": {
          "model_module": "@jupyter-widgets/controls",
          "model_name": "HTMLModel",
          "model_module_version": "1.5.0",
          "state": {
            "_dom_classes": [],
            "_model_module": "@jupyter-widgets/controls",
            "_model_module_version": "1.5.0",
            "_model_name": "HTMLModel",
            "_view_count": null,
            "_view_module": "@jupyter-widgets/controls",
            "_view_module_version": "1.5.0",
            "_view_name": "HTMLView",
            "description": "",
            "description_tooltip": null,
            "layout": "IPY_MODEL_438bc2e2052847cfad2e222087269ea8",
            "placeholder": "​",
            "style": "IPY_MODEL_0d3f11ac19a04aaf9f986ceea0844f7c",
            "value": " 5/5 [01:01&lt;00:00, 11.96s/it]"
          }
        },
        "8d66b37dc3f34d918b65d3589ac785fb": {
          "model_module": "@jupyter-widgets/base",
          "model_name": "LayoutModel",
          "model_module_version": "1.2.0",
          "state": {
            "_model_module": "@jupyter-widgets/base",
            "_model_module_version": "1.2.0",
            "_model_name": "LayoutModel",
            "_view_count": null,
            "_view_module": "@jupyter-widgets/base",
            "_view_module_version": "1.2.0",
            "_view_name": "LayoutView",
            "align_content": null,
            "align_items": null,
            "align_self": null,
            "border": null,
            "bottom": null,
            "display": null,
            "flex": null,
            "flex_flow": null,
            "grid_area": null,
            "grid_auto_columns": null,
            "grid_auto_flow": null,
            "grid_auto_rows": null,
            "grid_column": null,
            "grid_gap": null,
            "grid_row": null,
            "grid_template_areas": null,
            "grid_template_columns": null,
            "grid_template_rows": null,
            "height": null,
            "justify_content": null,
            "justify_items": null,
            "left": null,
            "margin": null,
            "max_height": null,
            "max_width": null,
            "min_height": null,
            "min_width": null,
            "object_fit": null,
            "object_position": null,
            "order": null,
            "overflow": null,
            "overflow_x": null,
            "overflow_y": null,
            "padding": null,
            "right": null,
            "top": null,
            "visibility": null,
            "width": null
          }
        },
        "cde2573946594fd9a7d8475b6b22c8b3": {
          "model_module": "@jupyter-widgets/base",
          "model_name": "LayoutModel",
          "model_module_version": "1.2.0",
          "state": {
            "_model_module": "@jupyter-widgets/base",
            "_model_module_version": "1.2.0",
            "_model_name": "LayoutModel",
            "_view_count": null,
            "_view_module": "@jupyter-widgets/base",
            "_view_module_version": "1.2.0",
            "_view_name": "LayoutView",
            "align_content": null,
            "align_items": null,
            "align_self": null,
            "border": null,
            "bottom": null,
            "display": null,
            "flex": null,
            "flex_flow": null,
            "grid_area": null,
            "grid_auto_columns": null,
            "grid_auto_flow": null,
            "grid_auto_rows": null,
            "grid_column": null,
            "grid_gap": null,
            "grid_row": null,
            "grid_template_areas": null,
            "grid_template_columns": null,
            "grid_template_rows": null,
            "height": null,
            "justify_content": null,
            "justify_items": null,
            "left": null,
            "margin": null,
            "max_height": null,
            "max_width": null,
            "min_height": null,
            "min_width": null,
            "object_fit": null,
            "object_position": null,
            "order": null,
            "overflow": null,
            "overflow_x": null,
            "overflow_y": null,
            "padding": null,
            "right": null,
            "top": null,
            "visibility": null,
            "width": null
          }
        },
        "f3e29161f682437dabf0a6e488bde578": {
          "model_module": "@jupyter-widgets/controls",
          "model_name": "DescriptionStyleModel",
          "model_module_version": "1.5.0",
          "state": {
            "_model_module": "@jupyter-widgets/controls",
            "_model_module_version": "1.5.0",
            "_model_name": "DescriptionStyleModel",
            "_view_count": null,
            "_view_module": "@jupyter-widgets/base",
            "_view_module_version": "1.2.0",
            "_view_name": "StyleView",
            "description_width": ""
          }
        },
        "ca083943b3c8451d85d1c2bc2ab28765": {
          "model_module": "@jupyter-widgets/base",
          "model_name": "LayoutModel",
          "model_module_version": "1.2.0",
          "state": {
            "_model_module": "@jupyter-widgets/base",
            "_model_module_version": "1.2.0",
            "_model_name": "LayoutModel",
            "_view_count": null,
            "_view_module": "@jupyter-widgets/base",
            "_view_module_version": "1.2.0",
            "_view_name": "LayoutView",
            "align_content": null,
            "align_items": null,
            "align_self": null,
            "border": null,
            "bottom": null,
            "display": null,
            "flex": null,
            "flex_flow": null,
            "grid_area": null,
            "grid_auto_columns": null,
            "grid_auto_flow": null,
            "grid_auto_rows": null,
            "grid_column": null,
            "grid_gap": null,
            "grid_row": null,
            "grid_template_areas": null,
            "grid_template_columns": null,
            "grid_template_rows": null,
            "height": null,
            "justify_content": null,
            "justify_items": null,
            "left": null,
            "margin": null,
            "max_height": null,
            "max_width": null,
            "min_height": null,
            "min_width": null,
            "object_fit": null,
            "object_position": null,
            "order": null,
            "overflow": null,
            "overflow_x": null,
            "overflow_y": null,
            "padding": null,
            "right": null,
            "top": null,
            "visibility": null,
            "width": null
          }
        },
        "47116b299358429d9e0023bd93b3ce6c": {
          "model_module": "@jupyter-widgets/controls",
          "model_name": "ProgressStyleModel",
          "model_module_version": "1.5.0",
          "state": {
            "_model_module": "@jupyter-widgets/controls",
            "_model_module_version": "1.5.0",
            "_model_name": "ProgressStyleModel",
            "_view_count": null,
            "_view_module": "@jupyter-widgets/base",
            "_view_module_version": "1.2.0",
            "_view_name": "StyleView",
            "bar_color": null,
            "description_width": ""
          }
        },
        "438bc2e2052847cfad2e222087269ea8": {
          "model_module": "@jupyter-widgets/base",
          "model_name": "LayoutModel",
          "model_module_version": "1.2.0",
          "state": {
            "_model_module": "@jupyter-widgets/base",
            "_model_module_version": "1.2.0",
            "_model_name": "LayoutModel",
            "_view_count": null,
            "_view_module": "@jupyter-widgets/base",
            "_view_module_version": "1.2.0",
            "_view_name": "LayoutView",
            "align_content": null,
            "align_items": null,
            "align_self": null,
            "border": null,
            "bottom": null,
            "display": null,
            "flex": null,
            "flex_flow": null,
            "grid_area": null,
            "grid_auto_columns": null,
            "grid_auto_flow": null,
            "grid_auto_rows": null,
            "grid_column": null,
            "grid_gap": null,
            "grid_row": null,
            "grid_template_areas": null,
            "grid_template_columns": null,
            "grid_template_rows": null,
            "height": null,
            "justify_content": null,
            "justify_items": null,
            "left": null,
            "margin": null,
            "max_height": null,
            "max_width": null,
            "min_height": null,
            "min_width": null,
            "object_fit": null,
            "object_position": null,
            "order": null,
            "overflow": null,
            "overflow_x": null,
            "overflow_y": null,
            "padding": null,
            "right": null,
            "top": null,
            "visibility": null,
            "width": null
          }
        },
        "0d3f11ac19a04aaf9f986ceea0844f7c": {
          "model_module": "@jupyter-widgets/controls",
          "model_name": "DescriptionStyleModel",
          "model_module_version": "1.5.0",
          "state": {
            "_model_module": "@jupyter-widgets/controls",
            "_model_module_version": "1.5.0",
            "_model_name": "DescriptionStyleModel",
            "_view_count": null,
            "_view_module": "@jupyter-widgets/base",
            "_view_module_version": "1.2.0",
            "_view_name": "StyleView",
            "description_width": ""
          }
        }
      }
    }
  },
  "cells": [
    {
      "cell_type": "markdown",
      "metadata": {
        "id": "view-in-github",
        "colab_type": "text"
      },
      "source": [
        "<a href=\"https://colab.research.google.com/github/alchemistklk/pytorch_tutorial/blob/master/03_pytorch_computer_version_exercise_solutions.ipynb\" target=\"_parent\"><img src=\"https://colab.research.google.com/assets/colab-badge.svg\" alt=\"Open In Colab\"/></a>"
      ]
    },
    {
      "cell_type": "code",
      "execution_count": null,
      "metadata": {
        "colab": {
          "base_uri": "https://localhost:8080/",
          "height": 35
        },
        "id": "yFDKI4rQnII9",
        "outputId": "095d06a8-f9da-40f5-8dea-0ce39472644c"
      },
      "outputs": [
        {
          "output_type": "execute_result",
          "data": {
            "text/plain": [
              "'cuda'"
            ],
            "application/vnd.google.colaboratory.intrinsic+json": {
              "type": "string"
            }
          },
          "metadata": {},
          "execution_count": 1
        }
      ],
      "source": [
        "# 03. PyTorch Computer Version Exercise\n",
        "import torch\n",
        "from torch import nn\n",
        "device = \"cuda\" if torch.cuda.is_available() else \"cpu\"\n",
        "device"
      ]
    },
    {
      "cell_type": "code",
      "source": [
        "%pip install -q torchmetrics"
      ],
      "metadata": {
        "colab": {
          "base_uri": "https://localhost:8080/"
        },
        "id": "JSxCS5G9oVbJ",
        "outputId": "ac8ef8d2-bdde-42fb-a86d-603cf69793d3"
      },
      "execution_count": null,
      "outputs": [
        {
          "output_type": "stream",
          "name": "stdout",
          "text": [
            "\u001b[?25l     \u001b[90m━━━━━━━━━━━━━━━━━━━━━━━━━━━━━━━━━━━━━━━━\u001b[0m \u001b[32m0.0/841.5 kB\u001b[0m \u001b[31m?\u001b[0m eta \u001b[36m-:--:--\u001b[0m\r\u001b[2K     \u001b[91m━━━━━━━━━━━━━━━━━━━━━━━━━━━━━━━\u001b[0m\u001b[91m╸\u001b[0m\u001b[90m━━━━━━━━\u001b[0m \u001b[32m665.6/841.5 kB\u001b[0m \u001b[31m19.8 MB/s\u001b[0m eta \u001b[36m0:00:01\u001b[0m\r\u001b[2K     \u001b[90m━━━━━━━━━━━━━━━━━━━━━━━━━━━━━━━━━━━━━━━━\u001b[0m \u001b[32m841.5/841.5 kB\u001b[0m \u001b[31m16.6 MB/s\u001b[0m eta \u001b[36m0:00:00\u001b[0m\n",
            "\u001b[?25h"
          ]
        }
      ]
    },
    {
      "cell_type": "code",
      "source": [
        "import torchmetrics"
      ],
      "metadata": {
        "id": "Zv-xCTpPoeUQ"
      },
      "execution_count": null,
      "outputs": []
    },
    {
      "cell_type": "markdown",
      "source": [
        "## 1.What are 3 areas in industry where computer vision is currently beging used?"
      ],
      "metadata": {
        "id": "0nVkClOGogvq"
      }
    },
    {
      "cell_type": "markdown",
      "source": [
        "## 2.Search \"What is overfitting in machine learning\""
      ],
      "metadata": {
        "id": "PbPS5YNMpPMo"
      }
    },
    {
      "cell_type": "markdown",
      "source": [
        "## 3.Search \"ways to prevent overfitting in machine learning\", write down 3 of things you find a sentences about each"
      ],
      "metadata": {
        "id": "kgOgMGEgpZgE"
      }
    },
    {
      "cell_type": "markdown",
      "source": [
        "##4.Spend 20-minutes reading and clicking through CNN Explainier Website"
      ],
      "metadata": {
        "id": "6HH5T0pppyzU"
      }
    },
    {
      "cell_type": "markdown",
      "source": [
        "## 5.Load the torchversion.datasets.MNIST() train and test datasets"
      ],
      "metadata": {
        "id": "dwlX4VGUp8Z6"
      }
    },
    {
      "cell_type": "code",
      "source": [
        "import torchvision\n",
        "from torchvision import datasets\n",
        "from torchvision.transforms import ToTensor\n",
        "train_data_set = datasets.MNIST(\n",
        "    root=\"data\",\n",
        "    train=True,\n",
        "    download=True,\n",
        "    transform=ToTensor(),\n",
        "    target_transform=None\n",
        ")\n",
        "\n",
        "test_data_set = datasets.MNIST(\n",
        "    root=\"data\",\n",
        "    train=False,\n",
        "    download=True,\n",
        "    transform=ToTensor()\n",
        ")"
      ],
      "metadata": {
        "colab": {
          "base_uri": "https://localhost:8080/"
        },
        "id": "ouKUD4NBqHos",
        "outputId": "abc04bd1-609f-4193-daf8-ba75be98ce7e"
      },
      "execution_count": null,
      "outputs": [
        {
          "output_type": "stream",
          "name": "stdout",
          "text": [
            "Downloading http://yann.lecun.com/exdb/mnist/train-images-idx3-ubyte.gz\n",
            "Failed to download (trying next):\n",
            "HTTP Error 403: Forbidden\n",
            "\n",
            "Downloading https://ossci-datasets.s3.amazonaws.com/mnist/train-images-idx3-ubyte.gz\n",
            "Downloading https://ossci-datasets.s3.amazonaws.com/mnist/train-images-idx3-ubyte.gz to data/MNIST/raw/train-images-idx3-ubyte.gz\n"
          ]
        },
        {
          "output_type": "stream",
          "name": "stderr",
          "text": [
            "100%|██████████| 9912422/9912422 [00:01<00:00, 5086354.14it/s]\n"
          ]
        },
        {
          "output_type": "stream",
          "name": "stdout",
          "text": [
            "Extracting data/MNIST/raw/train-images-idx3-ubyte.gz to data/MNIST/raw\n",
            "\n",
            "Downloading http://yann.lecun.com/exdb/mnist/train-labels-idx1-ubyte.gz\n",
            "Failed to download (trying next):\n",
            "HTTP Error 403: Forbidden\n",
            "\n",
            "Downloading https://ossci-datasets.s3.amazonaws.com/mnist/train-labels-idx1-ubyte.gz\n",
            "Downloading https://ossci-datasets.s3.amazonaws.com/mnist/train-labels-idx1-ubyte.gz to data/MNIST/raw/train-labels-idx1-ubyte.gz\n"
          ]
        },
        {
          "output_type": "stream",
          "name": "stderr",
          "text": [
            "100%|██████████| 28881/28881 [00:00<00:00, 131977.23it/s]\n"
          ]
        },
        {
          "output_type": "stream",
          "name": "stdout",
          "text": [
            "Extracting data/MNIST/raw/train-labels-idx1-ubyte.gz to data/MNIST/raw\n",
            "\n",
            "Downloading http://yann.lecun.com/exdb/mnist/t10k-images-idx3-ubyte.gz\n",
            "Failed to download (trying next):\n",
            "HTTP Error 403: Forbidden\n",
            "\n",
            "Downloading https://ossci-datasets.s3.amazonaws.com/mnist/t10k-images-idx3-ubyte.gz\n",
            "Downloading https://ossci-datasets.s3.amazonaws.com/mnist/t10k-images-idx3-ubyte.gz to data/MNIST/raw/t10k-images-idx3-ubyte.gz\n"
          ]
        },
        {
          "output_type": "stream",
          "name": "stderr",
          "text": [
            "100%|██████████| 1648877/1648877 [00:01<00:00, 1273931.52it/s]\n"
          ]
        },
        {
          "output_type": "stream",
          "name": "stdout",
          "text": [
            "Extracting data/MNIST/raw/t10k-images-idx3-ubyte.gz to data/MNIST/raw\n",
            "\n",
            "Downloading http://yann.lecun.com/exdb/mnist/t10k-labels-idx1-ubyte.gz\n",
            "Failed to download (trying next):\n",
            "HTTP Error 403: Forbidden\n",
            "\n",
            "Downloading https://ossci-datasets.s3.amazonaws.com/mnist/t10k-labels-idx1-ubyte.gz\n",
            "Downloading https://ossci-datasets.s3.amazonaws.com/mnist/t10k-labels-idx1-ubyte.gz to data/MNIST/raw/t10k-labels-idx1-ubyte.gz\n"
          ]
        },
        {
          "output_type": "stream",
          "name": "stderr",
          "text": [
            "100%|██████████| 4542/4542 [00:00<00:00, 3762695.79it/s]"
          ]
        },
        {
          "output_type": "stream",
          "name": "stdout",
          "text": [
            "Extracting data/MNIST/raw/t10k-labels-idx1-ubyte.gz to data/MNIST/raw\n",
            "\n"
          ]
        },
        {
          "output_type": "stream",
          "name": "stderr",
          "text": [
            "\n"
          ]
        }
      ]
    },
    {
      "cell_type": "code",
      "source": [
        "img = train_data_set[0][0]\n",
        "label = train_data_set[0][1]\n",
        "print(f\"img shape:{img.shape}\")\n",
        "print(f\"lable is:{label}\")"
      ],
      "metadata": {
        "colab": {
          "base_uri": "https://localhost:8080/"
        },
        "id": "4-98XN82uJ-p",
        "outputId": "a288342b-d9d8-4571-c4ff-5bc153210eae"
      },
      "execution_count": null,
      "outputs": [
        {
          "output_type": "stream",
          "name": "stdout",
          "text": [
            "img shape:torch.Size([1, 28, 28])\n",
            "lable is:5\n"
          ]
        }
      ]
    },
    {
      "cell_type": "code",
      "source": [
        "class_names = train_data_set.classes"
      ],
      "metadata": {
        "id": "4NwuIUeRuy29"
      },
      "execution_count": null,
      "outputs": []
    },
    {
      "cell_type": "code",
      "source": [
        "class_names"
      ],
      "metadata": {
        "colab": {
          "base_uri": "https://localhost:8080/"
        },
        "id": "wnYkhsDlu5o4",
        "outputId": "de687154-8336-48c3-e3ef-9deb4ae31bfd"
      },
      "execution_count": null,
      "outputs": [
        {
          "output_type": "execute_result",
          "data": {
            "text/plain": [
              "['0 - zero',\n",
              " '1 - one',\n",
              " '2 - two',\n",
              " '3 - three',\n",
              " '4 - four',\n",
              " '5 - five',\n",
              " '6 - six',\n",
              " '7 - seven',\n",
              " '8 - eight',\n",
              " '9 - nine']"
            ]
          },
          "metadata": {},
          "execution_count": 7
        }
      ]
    },
    {
      "cell_type": "markdown",
      "source": [
        "## 6.Visualize at least 5 different samples of the FashionMNIST training sets"
      ],
      "metadata": {
        "id": "l7iFQRvDrfTM"
      }
    },
    {
      "cell_type": "code",
      "source": [
        "import matplotlib.pyplot as plt\n",
        "\n",
        "for i in range(5):\n",
        "  img, label = train_data_set[i]\n",
        "  plt.figure(figsize=(3,3))\n",
        "  plt.imshow(img.squeeze(), cmap=\"gray\")\n",
        "  plt.title(label)\n",
        "  plt.axis(False)"
      ],
      "metadata": {
        "colab": {
          "base_uri": "https://localhost:8080/",
          "height": 1000
        },
        "id": "beHuqbmSrs0C",
        "outputId": "cb7bea8c-19e0-4250-f4e2-5805c79f2f92"
      },
      "execution_count": null,
      "outputs": [
        {
          "output_type": "display_data",
          "data": {
            "text/plain": [
              "<Figure size 300x300 with 1 Axes>"
            ],
            "image/png": "[encoded data removed]"
          },
          "metadata": {}
        },
        {
          "output_type": "display_data",
          "data": {
            "text/plain": [
              "<Figure size 300x300 with 1 Axes>"
            ],
            "image/png": "[encoded data removed]"
          },
          "metadata": {}
        },
        {
          "output_type": "display_data",
          "data": {
            "text/plain": [
              "<Figure size 300x300 with 1 Axes>"
            ],
            "image/png": "[encoded data removed]"
          },
          "metadata": {}
        },
        {
          "output_type": "display_data",
          "data": {
            "text/plain": [
              "<Figure size 300x300 with 1 Axes>"
            ],
            "image/png": "[encoded data removed]"
          },
          "metadata": {}
        },
        {
          "output_type": "display_data",
          "data": {
            "text/plain": [
              "<Figure size 300x300 with 1 Axes>"
            ],
            "image/png": "[encoded data removed]"
          },
          "metadata": {}
        }
      ]
    },
    {
      "cell_type": "markdown",
      "source": [
        "## 7.Turn the MINIST train and test datasets into dataloaders using `torch.utils.data.DataLoader` set the `batch_size=32`"
      ],
      "metadata": {
        "id": "QJnemfJ3vYkH"
      }
    },
    {
      "cell_type": "code",
      "source": [
        "from torch.utils.data import DataLoader\n",
        "\n",
        "train_dataloader = DataLoader(train_data_set, 32, shuffle=True)\n",
        "test_dataloader = DataLoader(test_data_set, 32, shuffle=False)\n"
      ],
      "metadata": {
        "id": "bSrnWP1kwVP7"
      },
      "execution_count": null,
      "outputs": []
    },
    {
      "cell_type": "code",
      "source": [
        "for sample in next(iter(train_dataloader)):\n",
        "  print(sample.shape)"
      ],
      "metadata": {
        "colab": {
          "base_uri": "https://localhost:8080/"
        },
        "id": "Zu0cqZXPxhXa",
        "outputId": "64a0d440-d67b-441e-d04b-52332cb5f42a"
      },
      "execution_count": null,
      "outputs": [
        {
          "output_type": "stream",
          "name": "stdout",
          "text": [
            "torch.Size([32, 1, 28, 28])\n",
            "torch.Size([32])\n"
          ]
        }
      ]
    },
    {
      "cell_type": "code",
      "source": [
        "len(train_dataloader), len(test_dataloader)"
      ],
      "metadata": {
        "colab": {
          "base_uri": "https://localhost:8080/"
        },
        "id": "EC7TkFoTyGXt",
        "outputId": "036c3fec-5ba6-4d53-99c2-eb2ca1d18496"
      },
      "execution_count": null,
      "outputs": [
        {
          "output_type": "execute_result",
          "data": {
            "text/plain": [
              "(1875, 313)"
            ]
          },
          "metadata": {},
          "execution_count": 11
        }
      ]
    },
    {
      "cell_type": "markdown",
      "source": [
        "## 8.Recreate `model_2` using in notebook03 capable of fitting on the MNIST dataset"
      ],
      "metadata": {
        "id": "FKXUTNgZyvo0"
      }
    },
    {
      "cell_type": "code",
      "source": [
        "class MINISTModel(nn.Module):\n",
        "  def __init__(self, input_shape:int, hidden_units: int, output_shape:int):\n",
        "    super().__init__()\n",
        "    self.block1 = nn.Sequential(\n",
        "        nn.Conv2d(in_channels=input_shape,\n",
        "                  out_channels=hidden_units,\n",
        "                  kernel_size=3,\n",
        "                  stride=1,\n",
        "                  padding=1),\n",
        "        nn.ReLU(),\n",
        "        nn.Conv2d(in_channels=hidden_units,\n",
        "                  out_channels=hidden_units,\n",
        "                  kernel_size=3,\n",
        "                  stride=1,\n",
        "                  padding=1),\n",
        "        nn.ReLU(),\n",
        "        nn.MaxPool2d(kernel_size=2,\n",
        "                     stride=2)\n",
        "    )\n",
        "\n",
        "    self.block2 = nn.Sequential(\n",
        "        nn.Conv2d(in_channels=hidden_units,\n",
        "                  out_channels=hidden_units,\n",
        "                  kernel_size=3,\n",
        "                  stride=1,\n",
        "                  padding=1),\n",
        "        nn.ReLU(),\n",
        "        nn.Conv2d(in_channels=hidden_units,\n",
        "                  out_channels=hidden_units,\n",
        "                  kernel_size=3,\n",
        "                  stride=1,\n",
        "                  padding=1),\n",
        "        nn.ReLU(),\n",
        "        nn.MaxPool2d(kernel_size=2,\n",
        "                     stride=2)\n",
        "    )\n",
        "\n",
        "    self.linear_stack = nn.Sequential(\n",
        "        nn.Flatten(),\n",
        "        nn.Linear(in_features=hidden_units*7*7, out_features=output_shape))\n",
        "  def forward(self, x):\n",
        "    return self.linear_stack(self.block2(self.block1(x)))"
      ],
      "metadata": {
        "id": "FQ9gm8tpy87B"
      },
      "execution_count": null,
      "outputs": []
    },
    {
      "cell_type": "code",
      "source": [
        "model = MINISTModel(1, 10, len(class_names)).to(device)"
      ],
      "metadata": {
        "id": "f4IpFvaa1aJm"
      },
      "execution_count": null,
      "outputs": []
    },
    {
      "cell_type": "code",
      "source": [
        "# setup loss function and optimizer and accuracy function\n",
        "from torchmetrics import Accuracy\n",
        "loss_fn = torch.nn.CrossEntropyLoss()\n",
        "optimizer = torch.optim.SGD(params=model.parameters(), lr=0.01, momentum=0.9)\n",
        "accuracy_fn = Accuracy(task=\"multiclass\", num_classes=len(class_names))"
      ],
      "metadata": {
        "id": "Mn_IxDL23BkU"
      },
      "execution_count": null,
      "outputs": []
    },
    {
      "cell_type": "code",
      "source": [
        "# set train function\n",
        "def train_step(model: torch.nn.Module, dataloader: torch.utils.data.DataLoader,\n",
        "               loss_fn: torch.nn.Module, optimizer: torch.optim.Optimizer,\n",
        "               device: torch.device = device):\n",
        "  train_loss = 0\n",
        "  train_acc = 0\n",
        "\n",
        "  model.to(device)\n",
        "  for _, (X, y) in enumerate(dataloader):\n",
        "    model.train()\n",
        "    X = X.to(device)\n",
        "    y = y.to(device)\n",
        "\n",
        "    y_logits = model(X)\n",
        "\n",
        "    loss = loss_fn(y_logits, y)\n",
        "    train_loss += loss\n",
        "\n",
        "    optimizer.zero_grad()\n",
        "\n",
        "    loss.backward()\n",
        "\n",
        "    optimizer.step()\n",
        "\n",
        "  train_loss /= len(dataloader)\n",
        "  print(f\"Train loss:{train_loss}|\")\n"
      ],
      "metadata": {
        "id": "DB3h2S_Q3XZs"
      },
      "execution_count": null,
      "outputs": []
    },
    {
      "cell_type": "code",
      "source": [
        "def test_step(model: torch.nn.Module, dataloader: torch.utils.data.DataLoader,\n",
        "               loss_fn: torch.nn.Module, device: torch.device = device):\n",
        "\n",
        "  model.eval()\n",
        "  test_loss = 0\n",
        "  model.to(device)\n",
        "  with torch.inference_mode():\n",
        "    for _, (X, y) in enumerate(dataloader):\n",
        "      X = X.to(device)\n",
        "      y = y.to(device)\n",
        "\n",
        "      y_logits = model(X)\n",
        "      test_loss += loss_fn(y_logits, y)\n",
        "    test_loss /= len(dataloader)\n",
        "  print(f\"Test loss:{test_loss}\")"
      ],
      "metadata": {
        "id": "fZXJL6xM6QXL"
      },
      "execution_count": null,
      "outputs": []
    },
    {
      "cell_type": "code",
      "source": [
        "def print_train_time(start, end, device=device):\n",
        "  interval = end - start\n",
        "  print(f\"Train time on {device}: {interval:.3f} seconds\")\n",
        "  return interval"
      ],
      "metadata": {
        "id": "HPMIlznY7p0b"
      },
      "execution_count": null,
      "outputs": []
    },
    {
      "cell_type": "code",
      "source": [
        "from timeit import default_timer as timer\n",
        "from tqdm.auto import tqdm\n",
        "torch.manual_seed(42)\n",
        "epochs = 5\n",
        "start = timer()\n",
        "for i in tqdm(range(epochs)):\n",
        "  print(f\"Epoch: {i} \\n ================\")\n",
        "  train_step(model, train_dataloader, loss_fn, optimizer)\n",
        "  test_step(model, test_dataloader, loss_fn)\n",
        "end = timer()\n",
        "\n",
        "print_train_time(start, end)"
      ],
      "metadata": {
        "colab": {
          "base_uri": "https://localhost:8080/",
          "height": 431,
          "referenced_widgets": [
            "9700b9f7c5394a76b33024c7efba5fd3",
            "7f7ef0b5ec1547fba2f010bdf823a2f6",
            "9750a5528bd54b1b8cf3b3c4ca9080a9",
            "a224871d4dec4cafbd58f62e58b03e54",
            "8d66b37dc3f34d918b65d3589ac785fb",
            "cde2573946594fd9a7d8475b6b22c8b3",
            "f3e29161f682437dabf0a6e488bde578",
            "ca083943b3c8451d85d1c2bc2ab28765",
            "47116b299358429d9e0023bd93b3ce6c",
            "438bc2e2052847cfad2e222087269ea8",
            "0d3f11ac19a04aaf9f986ceea0844f7c"
          ]
        },
        "id": "fpStR5b72TS1",
        "outputId": "153cf9bc-3cc5-409d-d2cc-40706760b75e"
      },
      "execution_count": null,
      "outputs": [
        {
          "output_type": "display_data",
          "data": {
            "text/plain": [
              "  0%|          | 0/5 [00:00<?, ?it/s]"
            ],
            "application/vnd.jupyter.widget-view+json": {
              "version_major": 2,
              "version_minor": 0,
              "model_id": "9700b9f7c5394a76b33024c7efba5fd3"
            }
          },
          "metadata": {}
        },
        {
          "output_type": "stream",
          "name": "stdout",
          "text": [
            "Epoch: 0 \n",
            " ================\n",
            "Train loss:0.3145988881587982|\n",
            "Test loss:0.08153774589300156\n",
            "Epoch: 1 \n",
            " ================\n",
            "Train loss:0.0686468631029129|\n",
            "Test loss:0.0446026474237442\n",
            "Epoch: 2 \n",
            " ================\n",
            "Train loss:0.0539395809173584|\n",
            "Test loss:0.04166129231452942\n",
            "Epoch: 3 \n",
            " ================\n",
            "Train loss:0.04553350433707237|\n",
            "Test loss:0.03574221208691597\n",
            "Epoch: 4 \n",
            " ================\n",
            "Train loss:0.038895219564437866|\n",
            "Test loss:0.039702482521533966\n",
            "Train time on cuda: 61.138 seconds\n"
          ]
        },
        {
          "output_type": "execute_result",
          "data": {
            "text/plain": [
              "61.13772202800001"
            ]
          },
          "metadata": {},
          "execution_count": 18
        }
      ]
    },
    {
      "cell_type": "code",
      "source": [
        "# Train time on cpu: 133.114 seconds\n",
        "# Train time on cuda: 61.138 seconds"
      ],
      "metadata": {
        "id": "MxoymaT18Rnx"
      },
      "execution_count": null,
      "outputs": []
    },
    {
      "cell_type": "markdown",
      "source": [
        "## 10.Make predictions using above model and visitlize at least 5 of them comparing the prediction to the target label"
      ],
      "metadata": {
        "id": "TJ3a_LlhYOwE"
      }
    },
    {
      "cell_type": "code",
      "source": [
        "def eval_mode(model: torch.nn.Module,\n",
        "              dataset):\n",
        "\n",
        "  for i in range(5):\n",
        "    X, y = dataset[i]\n",
        "    y_logits = model(X.unsqueeze(dim=0).to(device))\n",
        "    y_pred = torch.softmax(y_logits, dim=1).argmax(dim=1)\n",
        "\n",
        "\n",
        "    plt.figure(figsize=(3,3))\n",
        "    if y_pred == y:\n",
        "      color = \"green\"\n",
        "    else:\n",
        "      color = \"red\"\n",
        "    plt.title(f\"pred:{class_names[y_pred]}|true:{class_names[y]}\", c=color)\n",
        "    plt.imshow(X.squeeze(), cmap=\"gray\")\n",
        "    plt.axis(False)\n"
      ],
      "metadata": {
        "id": "IdLqfC_LYwE7"
      },
      "execution_count": null,
      "outputs": []
    },
    {
      "cell_type": "code",
      "source": [
        "eval_mode(model, test_data_set)"
      ],
      "metadata": {
        "colab": {
          "base_uri": "https://localhost:8080/",
          "height": 1000
        },
        "id": "4N0h0dk6Z00p",
        "outputId": "cdb13285-8066-44de-aac7-cb39a056179a"
      },
      "execution_count": null,
      "outputs": [
        {
          "output_type": "display_data",
          "data": {
            "text/plain": [
              "<Figure size 300x300 with 1 Axes>"
            ],
            "image/png": "[encoded data removed]"
          },
          "metadata": {}
        },
        {
          "output_type": "display_data",
          "data": {
            "text/plain": [
              "<Figure size 300x300 with 1 Axes>"
            ],
            "image/png": "[encoded data removed]"
          },
          "metadata": {}
        },
        {
          "output_type": "display_data",
          "data": {
            "text/plain": [
              "<Figure size 300x300 with 1 Axes>"
            ],
            "image/png": "[encoded data removed]"
          },
          "metadata": {}
        },
        {
          "output_type": "display_data",
          "data": {
            "text/plain": [
              "<Figure size 300x300 with 1 Axes>"
            ],
            "image/png": "[encoded data removed]"
          },
          "metadata": {}
        },
        {
          "output_type": "display_data",
          "data": {
            "text/plain": [
              "<Figure size 300x300 with 1 Axes>"
            ],
            "image/png": "[encoded data removed]"
          },
          "metadata": {}
        }
      ]
    },
    {
      "cell_type": "markdown",
      "source": [
        "## 11.Plot a confusion matrix comparing your model's predictions to the truth labels"
      ],
      "metadata": {
        "id": "PdXvnrysc2sY"
      }
    },
    {
      "cell_type": "code",
      "source": [
        "from torchmetrics import ConfusionMatrix\n",
        "import mlxtend"
      ],
      "metadata": {
        "id": "oJrse1jVdDTq"
      },
      "execution_count": null,
      "outputs": []
    },
    {
      "cell_type": "code",
      "source": [
        "def eval_model(model: torch.nn.Module,\n",
        "           data_loader: torch.utils.data.DataLoader):\n",
        "  model.eval()\n",
        "  y_preds = []\n",
        "  with torch.inference_mode():\n",
        "    for X, y in data_loader:\n",
        "      y_logits = model(X.to(device))\n",
        "      y_pred = torch.softmax(y_logits, dim=1).argmax(dim=1)\n",
        "      y_preds.append(y_pred)\n",
        "\n",
        "  return torch.cat(y_preds)"
      ],
      "metadata": {
        "id": "A54iI4jrdv7U"
      },
      "execution_count": null,
      "outputs": []
    },
    {
      "cell_type": "code",
      "source": [
        "from mlxtend.plotting import plot_confusion_matrix\n",
        "confmat = ConfusionMatrix(task=\"multiclass\", num_classes=len(class_names)).to(device)\n",
        "pred_tensor = eval_model(model, test_dataloader)\n",
        "confmat_tensor = confmat(pred_tensor, test_data_set.targets.to(device))\n",
        "\n",
        "# plot\n",
        "plot_confusion_matrix(\n",
        "    conf_mat=confmat_tensor.cpu().numpy(),\n",
        "    class_names=class_names,\n",
        "    figsize=(10,7)\n",
        ")\n"
      ],
      "metadata": {
        "colab": {
          "base_uri": "https://localhost:8080/",
          "height": 695
        },
        "id": "ID31dwsydB8D",
        "outputId": "0f0a710b-5488-472b-c6b6-0788dc73d158"
      },
      "execution_count": null,
      "outputs": [
        {
          "output_type": "execute_result",
          "data": {
            "text/plain": [
              "(<Figure size 1000x700 with 1 Axes>,\n",
              " <Axes: xlabel='predicted label', ylabel='true label'>)"
            ]
          },
          "metadata": {},
          "execution_count": 59
        },
        {
          "output_type": "display_data",
          "data": {
            "text/plain": [
              "<Figure size 1000x700 with 1 Axes>"
            ],
            "image/png": "[encoded data removed]"
          },
          "metadata": {}
        }
      ]
    },
    {
      "cell_type": "markdown",
      "source": [
        "## 12.Create a random tensor of shape[1, 3, 64, 64] and pass through a `nn.Conv2d()` layer with various hyperparameters settings"
      ],
      "metadata": {
        "id": "KFibbb1ngt2m"
      }
    },
    {
      "cell_type": "code",
      "source": [
        "random_tensor = torch.rand([1, 3, 64, 64])\n",
        "conv2d_layer = nn.Conv2d(in_channels=3, out_channels=64, kernel_size=3, stride=2, padding=1)\n",
        "random_tensor_through_conv_layer = conv2d_layer(random_tensor)\n",
        "print(f\"random_tensor_through_conv_layer's shape is {random_tensor_through_conv_layer.shape}\")"
      ],
      "metadata": {
        "colab": {
          "base_uri": "https://localhost:8080/"
        },
        "id": "peLR-9xlhZQp",
        "outputId": "9824126b-8f17-4791-d04b-2e2c870fb2a5"
      },
      "execution_count": null,
      "outputs": [
        {
          "output_type": "stream",
          "name": "stdout",
          "text": [
            "random_tensor_through_conv_layer's shape is torch.Size([1, 64, 32, 32])\n"
          ]
        }
      ]
    },
    {
      "cell_type": "markdown",
      "source": [
        "## 13.Use a model similiar to trained `model2` from notebook 03 to make predictions on test `torchvision.datasets.FashionMNIST` dataset"
      ],
      "metadata": {
        "id": "xSTilWAEiD16"
      }
    },
    {
      "cell_type": "code",
      "source": [
        "fsh_train_data_set = datasets.FashionMNIST(root=\".\", download=True, train=True, transform=ToTensor())\n",
        "fsh_test_data_set = datasets.FashionMNIST(root=\".\", download=True, train=False, transform=ToTensor())\n",
        "len(fsh_train_data_set), len(fsh_test_data_set)"
      ],
      "metadata": {
        "id": "PLWnuJIqijkJ"
      },
      "execution_count": null,
      "outputs": []
    },
    {
      "cell_type": "code",
      "source": [
        "fsh_train_dataloader = DataLoader(fsh_train_data_set, batch_size=32, shuffle=True)\n",
        "fsh_test_dataloader = DataLoader(fsh_test_data_set, batch_size=32, shuffle=False)\n"
      ],
      "metadata": {
        "id": "Dm7V-c7zjjLY"
      },
      "execution_count": null,
      "outputs": []
    },
    {
      "cell_type": "code",
      "source": [
        "fashion_class_names = fsh_train_data_set.classes"
      ],
      "metadata": {
        "id": "GN5OZdKAj8rV"
      },
      "execution_count": null,
      "outputs": []
    },
    {
      "cell_type": "code",
      "source": [
        "model2 = MINISTModel(input_shape=1, hidden_units=10, output_shape=len(fashion_class_names))"
      ],
      "metadata": {
        "id": "3vsap8yCkHHD"
      },
      "execution_count": null,
      "outputs": []
    }
  ]
}